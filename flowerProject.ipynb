{
  "cells": [
    {
      "cell_type": "markdown",
      "source": [
        "Import the model that we will use in order to do image to text conversion"
      ],
      "metadata": {
        "collapsed": false,
        "id": "d8e7d496d21615a7"
      },
      "id": "d8e7d496d21615a7"
    },
    {
      "cell_type": "code",
      "source": [
        "pip install langchain openai"
      ],
      "metadata": {
        "colab": {
          "base_uri": "https://localhost:8080/"
        },
        "id": "K6bv8eygKXHk",
        "outputId": "501034bb-3b07-4a3d-cd93-0f1f3dd866a1"
      },
      "id": "K6bv8eygKXHk",
      "execution_count": 5,
      "outputs": [
        {
          "output_type": "stream",
          "name": "stdout",
          "text": [
            "Collecting langchain\n",
            "  Downloading langchain-0.0.345-py3-none-any.whl (2.0 MB)\n",
            "\u001b[2K     \u001b[90m━━━━━━━━━━━━━━━━━━━━━━━━━━━━━━━━━━━━━━━━\u001b[0m \u001b[32m2.0/2.0 MB\u001b[0m \u001b[31m16.1 MB/s\u001b[0m eta \u001b[36m0:00:00\u001b[0m\n",
            "\u001b[?25hCollecting openai\n",
            "  Downloading openai-1.3.7-py3-none-any.whl (221 kB)\n",
            "\u001b[2K     \u001b[90m━━━━━━━━━━━━━━━━━━━━━━━━━━━━━━━━━━━━━━━━\u001b[0m \u001b[32m221.4/221.4 kB\u001b[0m \u001b[31m21.2 MB/s\u001b[0m eta \u001b[36m0:00:00\u001b[0m\n",
            "\u001b[?25hRequirement already satisfied: PyYAML>=5.3 in /usr/local/lib/python3.10/dist-packages (from langchain) (6.0.1)\n",
            "Requirement already satisfied: SQLAlchemy<3,>=1.4 in /usr/local/lib/python3.10/dist-packages (from langchain) (2.0.23)\n",
            "Requirement already satisfied: aiohttp<4.0.0,>=3.8.3 in /usr/local/lib/python3.10/dist-packages (from langchain) (3.9.1)\n",
            "Requirement already satisfied: anyio<4.0 in /usr/local/lib/python3.10/dist-packages (from langchain) (3.7.1)\n",
            "Requirement already satisfied: async-timeout<5.0.0,>=4.0.0 in /usr/local/lib/python3.10/dist-packages (from langchain) (4.0.3)\n",
            "Collecting dataclasses-json<0.7,>=0.5.7 (from langchain)\n",
            "  Downloading dataclasses_json-0.6.3-py3-none-any.whl (28 kB)\n",
            "Collecting jsonpatch<2.0,>=1.33 (from langchain)\n",
            "  Downloading jsonpatch-1.33-py2.py3-none-any.whl (12 kB)\n",
            "Collecting langchain-core<0.1,>=0.0.9 (from langchain)\n",
            "  Downloading langchain_core-0.0.9-py3-none-any.whl (177 kB)\n",
            "\u001b[2K     \u001b[90m━━━━━━━━━━━━━━━━━━━━━━━━━━━━━━━━━━━━━━━━\u001b[0m \u001b[32m177.8/177.8 kB\u001b[0m \u001b[31m19.4 MB/s\u001b[0m eta \u001b[36m0:00:00\u001b[0m\n",
            "\u001b[?25hCollecting langsmith<0.1.0,>=0.0.63 (from langchain)\n",
            "  Downloading langsmith-0.0.69-py3-none-any.whl (48 kB)\n",
            "\u001b[2K     \u001b[90m━━━━━━━━━━━━━━━━━━━━━━━━━━━━━━━━━━━━━━━━\u001b[0m \u001b[32m48.2/48.2 kB\u001b[0m \u001b[31m5.4 MB/s\u001b[0m eta \u001b[36m0:00:00\u001b[0m\n",
            "\u001b[?25hRequirement already satisfied: numpy<2,>=1 in /usr/local/lib/python3.10/dist-packages (from langchain) (1.23.5)\n",
            "Requirement already satisfied: pydantic<3,>=1 in /usr/local/lib/python3.10/dist-packages (from langchain) (1.10.13)\n",
            "Requirement already satisfied: requests<3,>=2 in /usr/local/lib/python3.10/dist-packages (from langchain) (2.31.0)\n",
            "Requirement already satisfied: tenacity<9.0.0,>=8.1.0 in /usr/local/lib/python3.10/dist-packages (from langchain) (8.2.3)\n",
            "Requirement already satisfied: distro<2,>=1.7.0 in /usr/lib/python3/dist-packages (from openai) (1.7.0)\n",
            "Collecting httpx<1,>=0.23.0 (from openai)\n",
            "  Downloading httpx-0.25.2-py3-none-any.whl (74 kB)\n",
            "\u001b[2K     \u001b[90m━━━━━━━━━━━━━━━━━━━━━━━━━━━━━━━━━━━━━━━━\u001b[0m \u001b[32m75.0/75.0 kB\u001b[0m \u001b[31m8.5 MB/s\u001b[0m eta \u001b[36m0:00:00\u001b[0m\n",
            "\u001b[?25hRequirement already satisfied: sniffio in /usr/local/lib/python3.10/dist-packages (from openai) (1.3.0)\n",
            "Requirement already satisfied: tqdm>4 in /usr/local/lib/python3.10/dist-packages (from openai) (4.66.1)\n",
            "Requirement already satisfied: typing-extensions<5,>=4.5 in /usr/local/lib/python3.10/dist-packages (from openai) (4.5.0)\n",
            "Requirement already satisfied: attrs>=17.3.0 in /usr/local/lib/python3.10/dist-packages (from aiohttp<4.0.0,>=3.8.3->langchain) (23.1.0)\n",
            "Requirement already satisfied: multidict<7.0,>=4.5 in /usr/local/lib/python3.10/dist-packages (from aiohttp<4.0.0,>=3.8.3->langchain) (6.0.4)\n",
            "Requirement already satisfied: yarl<2.0,>=1.0 in /usr/local/lib/python3.10/dist-packages (from aiohttp<4.0.0,>=3.8.3->langchain) (1.9.3)\n",
            "Requirement already satisfied: frozenlist>=1.1.1 in /usr/local/lib/python3.10/dist-packages (from aiohttp<4.0.0,>=3.8.3->langchain) (1.4.0)\n",
            "Requirement already satisfied: aiosignal>=1.1.2 in /usr/local/lib/python3.10/dist-packages (from aiohttp<4.0.0,>=3.8.3->langchain) (1.3.1)\n",
            "Requirement already satisfied: idna>=2.8 in /usr/local/lib/python3.10/dist-packages (from anyio<4.0->langchain) (3.6)\n",
            "Requirement already satisfied: exceptiongroup in /usr/local/lib/python3.10/dist-packages (from anyio<4.0->langchain) (1.2.0)\n",
            "Collecting marshmallow<4.0.0,>=3.18.0 (from dataclasses-json<0.7,>=0.5.7->langchain)\n",
            "  Downloading marshmallow-3.20.1-py3-none-any.whl (49 kB)\n",
            "\u001b[2K     \u001b[90m━━━━━━━━━━━━━━━━━━━━━━━━━━━━━━━━━━━━━━━━\u001b[0m \u001b[32m49.4/49.4 kB\u001b[0m \u001b[31m6.2 MB/s\u001b[0m eta \u001b[36m0:00:00\u001b[0m\n",
            "\u001b[?25hCollecting typing-inspect<1,>=0.4.0 (from dataclasses-json<0.7,>=0.5.7->langchain)\n",
            "  Downloading typing_inspect-0.9.0-py3-none-any.whl (8.8 kB)\n",
            "Requirement already satisfied: certifi in /usr/local/lib/python3.10/dist-packages (from httpx<1,>=0.23.0->openai) (2023.11.17)\n",
            "Collecting httpcore==1.* (from httpx<1,>=0.23.0->openai)\n",
            "  Downloading httpcore-1.0.2-py3-none-any.whl (76 kB)\n",
            "\u001b[2K     \u001b[90m━━━━━━━━━━━━━━━━━━━━━━━━━━━━━━━━━━━━━━━━\u001b[0m \u001b[32m76.9/76.9 kB\u001b[0m \u001b[31m8.9 MB/s\u001b[0m eta \u001b[36m0:00:00\u001b[0m\n",
            "\u001b[?25hCollecting h11<0.15,>=0.13 (from httpcore==1.*->httpx<1,>=0.23.0->openai)\n",
            "  Downloading h11-0.14.0-py3-none-any.whl (58 kB)\n",
            "\u001b[2K     \u001b[90m━━━━━━━━━━━━━━━━━━━━━━━━━━━━━━━━━━━━━━━━\u001b[0m \u001b[32m58.3/58.3 kB\u001b[0m \u001b[31m6.0 MB/s\u001b[0m eta \u001b[36m0:00:00\u001b[0m\n",
            "\u001b[?25hCollecting jsonpointer>=1.9 (from jsonpatch<2.0,>=1.33->langchain)\n",
            "  Downloading jsonpointer-2.4-py2.py3-none-any.whl (7.8 kB)\n",
            "Requirement already satisfied: charset-normalizer<4,>=2 in /usr/local/lib/python3.10/dist-packages (from requests<3,>=2->langchain) (3.3.2)\n",
            "Requirement already satisfied: urllib3<3,>=1.21.1 in /usr/local/lib/python3.10/dist-packages (from requests<3,>=2->langchain) (2.0.7)\n",
            "Requirement already satisfied: greenlet!=0.4.17 in /usr/local/lib/python3.10/dist-packages (from SQLAlchemy<3,>=1.4->langchain) (3.0.1)\n",
            "Requirement already satisfied: packaging>=17.0 in /usr/local/lib/python3.10/dist-packages (from marshmallow<4.0.0,>=3.18.0->dataclasses-json<0.7,>=0.5.7->langchain) (23.2)\n",
            "Collecting mypy-extensions>=0.3.0 (from typing-inspect<1,>=0.4.0->dataclasses-json<0.7,>=0.5.7->langchain)\n",
            "  Downloading mypy_extensions-1.0.0-py3-none-any.whl (4.7 kB)\n",
            "Installing collected packages: mypy-extensions, marshmallow, jsonpointer, h11, typing-inspect, langsmith, jsonpatch, httpcore, langchain-core, httpx, dataclasses-json, openai, langchain\n",
            "\u001b[31mERROR: pip's dependency resolver does not currently take into account all the packages that are installed. This behaviour is the source of the following dependency conflicts.\n",
            "llmx 0.0.15a0 requires cohere, which is not installed.\n",
            "llmx 0.0.15a0 requires tiktoken, which is not installed.\u001b[0m\u001b[31m\n",
            "\u001b[0mSuccessfully installed dataclasses-json-0.6.3 h11-0.14.0 httpcore-1.0.2 httpx-0.25.2 jsonpatch-1.33 jsonpointer-2.4 langchain-0.0.345 langchain-core-0.0.9 langsmith-0.0.69 marshmallow-3.20.1 mypy-extensions-1.0.0 openai-1.3.7 typing-inspect-0.9.0\n"
          ]
        }
      ]
    },
    {
      "cell_type": "code",
      "execution_count": 1,
      "id": "initial_id",
      "metadata": {
        "collapsed": true,
        "ExecuteTime": {
          "end_time": "2023-11-29T13:55:58.321574675Z",
          "start_time": "2023-11-29T13:55:58.248702182Z"
        },
        "id": "initial_id"
      },
      "outputs": [],
      "source": [
        "from google.colab import userdata\n",
        "import os\n",
        "os.environ[\"OPENAI_API_KEY\"] =  userdata.get('OPENAI')"
      ]
    },
    {
      "cell_type": "code",
      "source": [
        "import base64\n",
        "import requests\n",
        "\n",
        "# OpenAI API Key\n",
        "api_key = userdata.get('OPENAI')\n",
        "\n",
        "# Function to encode the image\n",
        "def encode_image(image_path):\n",
        "  with open(image_path, \"rb\") as image_file:\n",
        "    return base64.b64encode(image_file.read()).decode('utf-8')\n",
        "\n",
        "# Path to your image\n",
        "image_path = \"/content/Botrytis-Blight-on-Roses.jpg\"\n",
        "\n",
        "# Getting the base64 string\n",
        "base64_image = encode_image(image_path)\n",
        "\n",
        "headers = {\n",
        "  \"Content-Type\": \"application/json\",\n",
        "  \"Authorization\": f\"Bearer {api_key}\"\n",
        "}\n",
        "\n",
        "prompt_template = (\n",
        "    \"Analyze the provided image of the plant and identify the following details:\\n\\n\"\n",
        "    \"1. **Plant Part**: Determine whether the image shows a flower, leaves, stem, or other parts of the plant.\\n\"\n",
        "    \"2. **Type of Flower or Plant**: If the flower is visible, describe its species or common name. If other parts of the plant are shown, provide identification if possible.\\n\"\n",
        "    \"3. **Color and Appearance**: Describe the colors and any noticeable features of the plant part in the image (e.g., spots, stripes, shape of leaves).\\n\"\n",
        "    \"4. **Condition Assessment**:\\n\"\n",
        "    \"   - **Health Status**: Indicate if the plant part appears healthy, wilting, or diseased.\\n\"\n",
        "    \"   - **Stage of Life**: Specify if the plant is in a budding, blooming, or wilting stage, if applicable.\\n\"\n",
        "    \"   - **Damage or Anomalies**: Mention any signs of damage, pests, or unusual growth patterns.\\n\"\n",
        "    \"5. **Environmental Context** (if visible in the image): Comment on the surrounding environment, such as garden, wild, indoor, etc.\\n\\n\"\n",
        "    \"Please provide a concise, clear, and accurate description based on the visual information present in the image. \"\n",
        "    \"Utilize descriptive language and avoid ambiguous terms. Ensure the response is tailored to the specifics of the image, \"\n",
        "    \"reflecting the details of the plant part and its condition accurately.\"\n",
        ")\n",
        "\n",
        "\n",
        "payload = {\n",
        "  \"model\": \"gpt-4-vision-preview\",\n",
        "  \"messages\": [\n",
        "    {\n",
        "      \"role\": \"user\",\n",
        "      \"content\": [\n",
        "        {\n",
        "          \"type\": \"text\",\n",
        "          \"text\": prompt_template\n",
        "        },\n",
        "        {\n",
        "          \"type\": \"image_url\",\n",
        "          \"image_url\": {\n",
        "            \"url\": f\"data:image/jpeg;base64,{base64_image}\"\n",
        "          }\n",
        "        }\n",
        "      ]\n",
        "    }\n",
        "  ],\n",
        "  \"max_tokens\": 300\n",
        "}\n",
        "\n",
        "response = requests.post(\"https://api.openai.com/v1/chat/completions\", headers=headers, json=payload)\n",
        "\n",
        "print(response.json())"
      ],
      "metadata": {
        "colab": {
          "base_uri": "https://localhost:8080/"
        },
        "id": "iIQQcKC3PJHc",
        "outputId": "9b09a4cf-f20f-4675-afda-aa945810d650"
      },
      "id": "iIQQcKC3PJHc",
      "execution_count": 2,
      "outputs": [
        {
          "output_type": "stream",
          "name": "stdout",
          "text": [
            "{'id': 'chatcmpl-8S4q78wUduZGACQixEVKUX76QlFQp', 'object': 'chat.completion', 'created': 1701702479, 'model': 'gpt-4-1106-vision-preview', 'usage': {'prompt_tokens': 1040, 'completion_tokens': 297, 'total_tokens': 1337}, 'choices': [{'message': {'role': 'assistant', 'content': \"1. **Plant Part**: The image shows a flower, specifically a rose.\\n\\n2. **Type of Flower or Plant**: The flower in the image is a rose. However, without more information, it's not possible to determine the exact species or cultivar.\\n\\n3. **Color and Appearance**: The rose appears to have originally been a light color, probably a shade of pale pink or peach, but the petals have browned significantly, indicating decay. The flower is fully open, with multiple layers of petals that spiral inward. Some petals have brown edges and spots, and there are signs of wilting and drying, particularly on the outer petals.\\n\\n4. **Condition Assessment**:\\n   - **Health Status**: The flower appears to be wilting and showing signs of decay.\\n   - **Stage of Life**: Based on the browning and wilting petals, the rose is past its peak blooming stage and is in the process of dying.\\n   - **Damage or Anomalies**: There is noticeable browning and drying, especially on the outer petals, which suggests either natural aging or possibly exposure to unfavorable conditions, like too much sun or lack of water.\\n\\n5. **Environmental Context**: Based on this single image, it is challenging to make a definitive comment on the surrounding environment, but the presence of green leaves in the background indicates that the rose might be outdoors or part of a garden setting. There's no clear evidence of whether it's a wild or cultivated environment.\"}, 'finish_details': {'type': 'stop', 'stop': '<|fim_suffix|>'}, 'index': 0}]}\n"
          ]
        }
      ]
    },
    {
      "cell_type": "code",
      "source": [
        "json_response = response.json()\n",
        "result = json_response['choices'][0]['message']['content']\n",
        "result"
      ],
      "metadata": {
        "colab": {
          "base_uri": "https://localhost:8080/",
          "height": 127
        },
        "id": "gLkVEXBoQjR_",
        "outputId": "4c8a8137-b550-477f-81f4-e90df52a2f80"
      },
      "id": "gLkVEXBoQjR_",
      "execution_count": 3,
      "outputs": [
        {
          "output_type": "execute_result",
          "data": {
            "text/plain": [
              "\"1. **Plant Part**: The image shows a flower, specifically a rose.\\n\\n2. **Type of Flower or Plant**: The flower in the image is a rose. However, without more information, it's not possible to determine the exact species or cultivar.\\n\\n3. **Color and Appearance**: The rose appears to have originally been a light color, probably a shade of pale pink or peach, but the petals have browned significantly, indicating decay. The flower is fully open, with multiple layers of petals that spiral inward. Some petals have brown edges and spots, and there are signs of wilting and drying, particularly on the outer petals.\\n\\n4. **Condition Assessment**:\\n   - **Health Status**: The flower appears to be wilting and showing signs of decay.\\n   - **Stage of Life**: Based on the browning and wilting petals, the rose is past its peak blooming stage and is in the process of dying.\\n   - **Damage or Anomalies**: There is noticeable browning and drying, especially on the outer petals, which suggests either natural aging or possibly exposure to unfavorable conditions, like too much sun or lack of water.\\n\\n5. **Environmental Context**: Based on this single image, it is challenging to make a definitive comment on the surrounding environment, but the presence of green leaves in the background indicates that the rose might be outdoors or part of a garden setting. There's no clear evidence of whether it's a wild or cultivated environment.\""
            ],
            "application/vnd.google.colaboratory.intrinsic+json": {
              "type": "string"
            }
          },
          "metadata": {},
          "execution_count": 3
        }
      ]
    },
    {
      "cell_type": "code",
      "source": [
        "from langchain.chains import create_extraction_chain\n",
        "from langchain.chat_models import ChatOpenAI\n",
        "\n",
        "# Schema\n",
        "schema = {\n",
        "    \"properties\": {\n",
        "        \"plant\": {\"type\": \"string\"},\n",
        "         \"part_of_plant\": {\"type\": \"string\"},\n",
        "        \"condition\": {\"type\": \"string\"},\n",
        "        \"explanation_of_condition\":{\"type\":\"string\"},\n",
        "    },\n",
        "    \"required\": [\"plant\"],\n",
        "}\n",
        "# Run chain\n",
        "llm = ChatOpenAI(temperature=0, model=\"gpt-3.5-turbo\")\n",
        "chain = create_extraction_chain(schema, llm)\n",
        "structured_data = chain.run(result)[0]\n",
        "structured_data"
      ],
      "metadata": {
        "colab": {
          "base_uri": "https://localhost:8080/"
        },
        "id": "nOJ0ysFESo_1",
        "outputId": "4c186941-1d03-4c91-94bc-77fa15e2abd1"
      },
      "id": "nOJ0ysFESo_1",
      "execution_count": 6,
      "outputs": [
        {
          "output_type": "execute_result",
          "data": {
            "text/plain": [
              "{'plant': 'rose',\n",
              " 'part_of_plant': 'flower',\n",
              " 'condition': 'wilting and showing signs of decay',\n",
              " 'explanation_of_condition': 'The flower appears to be wilting and showing signs of decay.'}"
            ]
          },
          "metadata": {},
          "execution_count": 6
        }
      ]
    },
    {
      "cell_type": "code",
      "source": [
        "from langchain.chat_models import ChatOpenAI\n",
        "from langchain.prompts import ChatPromptTemplate\n",
        "from langchain.schema.output_parser import StrOutputParser\n",
        "\n",
        "\n",
        "prompt = ChatPromptTemplate.from_template((\n",
        "    \"Given the following details about a plant, provide recommendations for its care:\\n\\n\"\n",
        "    \"Plant Type: {plant}\\n\"\n",
        "    \"Visible Plant Parts: {part_of_plant}\\n\"\n",
        "    \"Condition Assessment:\\n\"\n",
        "    \"   - Overall Health: {condition}\\n\"\n",
        "    \"   - Specific Issues: {explanation_of_condition}\\n\\n\"\n",
        "    \"Based on the above information, please provide a comprehensive care guide for this plant. The guide should include:\\n\"\n",
        "    \"   - Watering recommendations\\n\"\n",
        "    \"   - Sunlight requirements\\n\"\n",
        "    \"   - Soil and nutrient needs\\n\"\n",
        "    \"   - Pest control suggestions\\n\"\n",
        "    \"   - Any other relevant care tips specific to the plant type and its current condition.\"))\n",
        "model = ChatOpenAI(temperature=0.2, model=\"gpt-3.5-turbo\", max_tokens=800)\n",
        "output_parser = StrOutputParser()\n",
        "\n",
        "chain = prompt | model | output_parser\n",
        "\n",
        "recomendation = chain.invoke(structured_data)\n",
        "print(recomendation)"
      ],
      "metadata": {
        "colab": {
          "base_uri": "https://localhost:8080/"
        },
        "id": "i20d1jG4Tipc",
        "outputId": "6cce3f63-5505-4fa2-dcb8-22841bac287e"
      },
      "id": "i20d1jG4Tipc",
      "execution_count": 12,
      "outputs": [
        {
          "output_type": "stream",
          "name": "stdout",
          "text": [
            "Care Guide for a Wilting and Decaying Rose Plant:\n",
            "\n",
            "Watering Recommendations:\n",
            "- Ensure the rose plant is receiving adequate water. Water deeply and thoroughly, allowing the soil to dry slightly between waterings.\n",
            "- Avoid overwatering, as this can lead to root rot and further decay. Check the moisture level of the soil before watering.\n",
            "\n",
            "Sunlight Requirements:\n",
            "- Roses generally require at least 6 hours of direct sunlight per day. Ensure the plant is placed in a location that receives ample sunlight.\n",
            "\n",
            "Soil and Nutrient Needs:\n",
            "- Roses prefer well-draining soil with a pH level between 6.0 and 6.5. Amend the soil with organic matter, such as compost or well-rotted manure, to improve drainage and fertility.\n",
            "- Apply a balanced rose fertilizer according to the package instructions, typically every 4-6 weeks during the growing season.\n",
            "\n",
            "Pest Control Suggestions:\n",
            "- Inspect the plant regularly for common rose pests such as aphids, spider mites, and rose slugs. Remove any visible pests by hand or use a strong stream of water to dislodge them.\n",
            "- Consider using organic insecticidal soaps or horticultural oils to control pests if the infestation is severe. Follow the product instructions carefully.\n",
            "\n",
            "Other Relevant Care Tips:\n",
            "- Prune any dead or decaying parts of the plant, including the wilted flower. Cut back to healthy tissue using clean and sharp pruning shears.\n",
            "- Improve air circulation around the plant by spacing roses adequately and removing any debris or fallen leaves from the base.\n",
            "- Mulch around the base of the plant with organic materials like wood chips or straw to help retain moisture and suppress weed growth.\n",
            "- Monitor for signs of diseases such as black spot or powdery mildew. If detected, consider using appropriate fungicides or consult with a local garden center for specific recommendations.\n",
            "\n",
            "Regular monitoring, proper watering, adequate sunlight, and timely care will help revive the wilting and decaying rose plant.\n"
          ]
        }
      ]
    }
  ],
  "metadata": {
    "kernelspec": {
      "display_name": "Python 3",
      "language": "python",
      "name": "python3"
    },
    "language_info": {
      "codemirror_mode": {
        "name": "ipython",
        "version": 2
      },
      "file_extension": ".py",
      "mimetype": "text/x-python",
      "name": "python",
      "nbconvert_exporter": "python",
      "pygments_lexer": "ipython2",
      "version": "2.7.6"
    },
    "colab": {
      "provenance": []
    }
  },
  "nbformat": 4,
  "nbformat_minor": 5
}