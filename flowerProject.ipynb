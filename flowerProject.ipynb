{
 "cells": [
  {
   "cell_type": "markdown",
   "source": [
    "Import the model that we will use in order to do image to text conversion"
   ],
   "metadata": {
    "collapsed": false
   },
   "id": "d8e7d496d21615a7"
  },
  {
   "cell_type": "code",
   "execution_count": 10,
   "id": "initial_id",
   "metadata": {
    "collapsed": true,
    "ExecuteTime": {
     "end_time": "2023-11-29T14:38:23.081614971Z",
     "start_time": "2023-11-29T14:38:23.068157858Z"
    }
   },
   "outputs": [],
   "source": [
    "import ipywidgets as widgets\n",
    "from IPython.display import display, clear_output\n",
    "from transformers import pipeline\n",
    "from PIL import Image\n",
    "import io"
   ]
  },
  {
   "cell_type": "code",
   "execution_count": 4,
   "outputs": [],
   "source": [
    "pipe = pipeline(\"image-to-text\", model=\"Salesforce/blip-image-captioning-large\")"
   ],
   "metadata": {
    "collapsed": false,
    "ExecuteTime": {
     "end_time": "2023-11-29T13:56:19.791491008Z",
     "start_time": "2023-11-29T13:55:58.291151644Z"
    }
   },
   "id": "ccb5ba7fab235ba5"
  },
  {
   "cell_type": "markdown",
   "source": [
    "Create the pipeline\n",
    "pipe = pipeline(\"image-to-text\", model=\"nlpconnect/vit-gpt2-image-captioning\")"
   ],
   "metadata": {
    "collapsed": false
   },
   "id": "af2b05205857e76f"
  },
  {
   "cell_type": "code",
   "execution_count": 6,
   "outputs": [
    {
     "name": "stderr",
     "output_type": "stream",
     "text": [
      "/home/marios/PycharmProjects/flowerProject/venv/lib/python3.8/site-packages/transformers/generation/utils.py:1273: UserWarning: Using the model-agnostic default `max_length` (=20) to control the generation length. We recommend setting `max_new_tokens` to control the maximum length of the generation.\n",
      "  warnings.warn(\n"
     ]
    },
    {
     "name": "stdout",
     "output_type": "stream",
     "text": [
      "[{'generated_text': 'there are many sunflowers in a field with a blue sky'}]\n"
     ]
    }
   ],
   "source": [
    "# Load your image (replace 'path_to_your_image.jpg' with the actual file path)\n",
    "image = Image.open('Sunflower-field-Fargo-North-Dakota.webp')\n",
    "\n",
    "# Use the pipeline to generate a caption\n",
    "caption = pipe(image)\n",
    "\n",
    "# Print the generated caption\n",
    "generated_caption = caption[0]['generated_text']\n",
    "print(\"Generated Caption:\", generated_caption)"
   ],
   "metadata": {
    "collapsed": false,
    "ExecuteTime": {
     "end_time": "2023-11-29T14:01:15.839375905Z",
     "start_time": "2023-11-29T14:01:05.608918737Z"
    }
   },
   "id": "245b06116ba3054a"
  },
  {
   "cell_type": "code",
   "execution_count": 12,
   "outputs": [
    {
     "data": {
      "text/plain": "FileUpload(value=(), accept='.jpg,.png', description='Upload')",
      "application/vnd.jupyter.widget-view+json": {
       "version_major": 2,
       "version_minor": 0,
       "model_id": "7e8e39e02f1d4508b57ad93a04de9e3e"
      }
     },
     "metadata": {},
     "output_type": "display_data"
    },
    {
     "data": {
      "text/plain": "Output()",
      "application/vnd.jupyter.widget-view+json": {
       "version_major": 2,
       "version_minor": 0,
       "model_id": "ff668cf3575e44e9a5d4051c15a86fda"
      }
     },
     "metadata": {},
     "output_type": "display_data"
    },
    {
     "data": {
      "text/plain": "Output()",
      "application/vnd.jupyter.widget-view+json": {
       "version_major": 2,
       "version_minor": 0,
       "model_id": "8ca7160c24bb495f8c26f4832859db38"
      }
     },
     "metadata": {},
     "output_type": "display_data"
    }
   ],
   "source": [
    "image_output = widgets.Output()\n",
    "caption_output = widgets.Output()\n",
    "\n",
    "# Create a file upload widget\n",
    "upload_button = widgets.FileUpload(accept='.jpg,.png', multiple=False)\n",
    "# Function to process and display the uploaded image and caption\n",
    "def process_and_show_image(change):\n",
    "    image_output.clear_output()\n",
    "    caption_output.clear_output()\n",
    "\n",
    "    # Get the uploaded file\n",
    "    uploaded_file = upload_button.value\n",
    "    for name, file_info in uploaded_file.items():\n",
    "        image = Image.open(io.BytesIO(file_info['content']))\n",
    "\n",
    "        # Display the image\n",
    "        with image_output:\n",
    "            display(image)\n",
    "\n",
    "        # Generate and display the caption\n",
    "        caption = pipe(image)\n",
    "        with caption_output:\n",
    "            print(\"Generated Caption:\", caption[0]['caption'])\n",
    "\n",
    "# Set the event handler for file upload\n",
    "upload_button.observe(process_and_show_image, names='value')\n",
    "\n",
    "# Display widgets\n",
    "display(upload_button, image_output, caption_output)"
   ],
   "metadata": {
    "collapsed": false,
    "ExecuteTime": {
     "end_time": "2023-11-29T14:38:33.984981139Z",
     "start_time": "2023-11-29T14:38:33.922477709Z"
    }
   },
   "id": "215d6ff9fa4b2cf5"
  }
 ],
 "metadata": {
  "kernelspec": {
   "display_name": "Python 3",
   "language": "python",
   "name": "python3"
  },
  "language_info": {
   "codemirror_mode": {
    "name": "ipython",
    "version": 2
   },
   "file_extension": ".py",
   "mimetype": "text/x-python",
   "name": "python",
   "nbconvert_exporter": "python",
   "pygments_lexer": "ipython2",
   "version": "2.7.6"
  }
 },
 "nbformat": 4,
 "nbformat_minor": 5
}
