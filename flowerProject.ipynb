{
 "cells": [
  {
   "cell_type": "markdown",
   "source": [
    "Import the model that we will use in order to do image to text conversion"
   ],
   "metadata": {
    "collapsed": false
   },
   "id": "d8e7d496d21615a7"
  },
  {
   "cell_type": "code",
   "execution_count": 3,
   "id": "initial_id",
   "metadata": {
    "collapsed": true,
    "ExecuteTime": {
     "end_time": "2023-11-29T13:55:58.321574675Z",
     "start_time": "2023-11-29T13:55:58.248702182Z"
    }
   },
   "outputs": [],
   "source": [
    "from transformers import pipeline\n",
    "from PIL import Image"
   ]
  },
  {
   "cell_type": "code",
   "execution_count": 4,
   "outputs": [],
   "source": [
    "pipe = pipeline(\"image-to-text\", model=\"Salesforce/blip-image-captioning-large\")"
   ],
   "metadata": {
    "collapsed": false,
    "ExecuteTime": {
     "end_time": "2023-11-29T13:56:19.791491008Z",
     "start_time": "2023-11-29T13:55:58.291151644Z"
    }
   },
   "id": "ccb5ba7fab235ba5"
  },
  {
   "cell_type": "markdown",
   "source": [
    "Create the pipeline\n",
    "pipe = pipeline(\"image-to-text\", model=\"nlpconnect/vit-gpt2-image-captioning\")"
   ],
   "metadata": {
    "collapsed": false
   },
   "id": "af2b05205857e76f"
  },
  {
   "cell_type": "code",
   "execution_count": 5,
   "outputs": [
    {
     "name": "stderr",
     "output_type": "stream",
     "text": [
      "/home/marios/PycharmProjects/flowerProject/venv/lib/python3.8/site-packages/transformers/generation/utils.py:1273: UserWarning: Using the model-agnostic default `max_length` (=20) to control the generation length. We recommend setting `max_new_tokens` to control the maximum length of the generation.\n",
      "  warnings.warn(\n"
     ]
    },
    {
     "name": "stdout",
     "output_type": "stream",
     "text": [
      "[{'generated_text': 'purple tulips are blooming in a field of green leaves'}]\n"
     ]
    }
   ],
   "source": [
    "# Load your image (replace 'path_to_your_image.jpg' with the actual file path)\n",
    "image = Image.open('tulipe-simple-tardive-violet-beauty-2.jpg')\n",
    "\n",
    "# Use the pipeline to generate a caption\n",
    "caption = pipe(image)\n",
    "\n",
    "# Print the generated caption\n",
    "print(caption)"
   ],
   "metadata": {
    "collapsed": false,
    "ExecuteTime": {
     "end_time": "2023-11-29T13:56:59.671711405Z",
     "start_time": "2023-11-29T13:56:27.681859056Z"
    }
   },
   "id": "245b06116ba3054a"
  }
 ],
 "metadata": {
  "kernelspec": {
   "display_name": "Python 3",
   "language": "python",
   "name": "python3"
  },
  "language_info": {
   "codemirror_mode": {
    "name": "ipython",
    "version": 2
   },
   "file_extension": ".py",
   "mimetype": "text/x-python",
   "name": "python",
   "nbconvert_exporter": "python",
   "pygments_lexer": "ipython2",
   "version": "2.7.6"
  }
 },
 "nbformat": 4,
 "nbformat_minor": 5
}
